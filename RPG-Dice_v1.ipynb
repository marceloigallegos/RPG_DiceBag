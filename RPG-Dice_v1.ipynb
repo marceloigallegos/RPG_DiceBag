{
 "cells": [
  {
   "cell_type": "markdown",
   "metadata": {},
   "source": [
    "# A Virtual Dice for RPG games"
   ]
  },
  {
   "cell_type": "code",
   "execution_count": 1,
   "metadata": {},
   "outputs": [],
   "source": [
    "__author__ = \"Marcelo Gallegos\""
   ]
  },
  {
   "cell_type": "code",
   "execution_count": 2,
   "metadata": {},
   "outputs": [],
   "source": [
    "import tkinter\n",
    "from tkinter import *\n",
    "from tkinter import ttk\n",
    "from PIL import Image, ImageTk\n",
    "import random"
   ]
  },
  {
   "cell_type": "code",
   "execution_count": 3,
   "metadata": {},
   "outputs": [
    {
     "data": {
      "text/plain": [
       "''"
      ]
     },
     "execution_count": 3,
     "metadata": {},
     "output_type": "execute_result"
    }
   ],
   "source": [
    "# Ventana principal de la aplicación\n",
    "root = tkinter.Tk()\n",
    "root.title('RPG-Dice v.1.0')\n",
    "root.iconbitmap('images/app.ico')\n",
    "root.geometry('500x500')"
   ]
  },
  {
   "cell_type": "code",
   "execution_count": 4,
   "metadata": {},
   "outputs": [],
   "source": [
    "rpg_dice = ttk.Notebook(root)\n",
    "rpg_dice.pack()"
   ]
  },
  {
   "cell_type": "code",
   "execution_count": 5,
   "metadata": {},
   "outputs": [],
   "source": [
    "frame1 = Frame(rpg_dice, width = 499, height = 499)\n",
    "frame2 = Frame(rpg_dice, width = 499, height = 499)\n",
    "frame3 = Frame(rpg_dice, width = 499, height = 499)\n",
    "frame4 = Frame(rpg_dice, width = 499, height = 499)\n",
    "frame5 = Frame(rpg_dice, width = 499, height = 499)\n",
    "frame6 = Frame(rpg_dice, width = 499, height = 499)\n",
    "frame7 = Frame(rpg_dice, width = 499, height = 499)\n",
    "\n",
    "frame1.pack(fill=\"both\", expand=1)\n",
    "frame2.pack(fill=\"both\", expand=1)\n",
    "frame3.pack(fill=\"both\", expand=1)\n",
    "frame4.pack(fill=\"both\", expand=1)\n",
    "frame5.pack(fill=\"both\", expand=1)\n",
    "frame6.pack(fill=\"both\", expand=1)\n",
    "frame7.pack(fill=\"both\", expand=1)\n",
    "\n",
    "rpg_dice.add(frame1, text = 'Dice 4')\n",
    "rpg_dice.add(frame2, text = 'Dice 6')\n",
    "rpg_dice.add(frame3, text = 'Dice 8')\n",
    "rpg_dice.add(frame4, text = 'Dice 10')\n",
    "rpg_dice.add(frame5, text = 'Dice P')\n",
    "rpg_dice.add(frame6, text = 'Dice 12')\n",
    "rpg_dice.add(frame7, text = 'Dice 20')"
   ]
  },
  {
   "cell_type": "markdown",
   "metadata": {},
   "source": [
    "### D4 Dice"
   ]
  },
  {
   "cell_type": "code",
   "execution_count": 6,
   "metadata": {},
   "outputs": [],
   "source": [
    "# adding label with different font and formatting\n",
    "HeadingLabel = tkinter.Label(frame1, text=\"D4 Dice\",\n",
    "   font = \"Helvetica 16 bold\")\n",
    "HeadingLabel.pack()"
   ]
  },
  {
   "cell_type": "code",
   "execution_count": 7,
   "metadata": {},
   "outputs": [],
   "source": [
    "caras_4 = ['images/dado_4/cara1.png', 'images/dado_4/cara2.png', 'images/dado_4/cara3.png', 'images/dado_4/cara4.png']"
   ]
  },
  {
   "cell_type": "code",
   "execution_count": 8,
   "metadata": {},
   "outputs": [],
   "source": [
    "# Generacion de Imagen (1-4)\n",
    "caraDado4 = ImageTk.PhotoImage(Image.open(random.choice(caras_4)))"
   ]
  },
  {
   "cell_type": "code",
   "execution_count": 9,
   "metadata": {},
   "outputs": [],
   "source": [
    "# Etiquetado de cada imagen segun numero\n",
    "ImageLabel_4 = tkinter.Label(frame1, image=caraDado4)\n",
    "ImageLabel_4.image = caraDado4"
   ]
  },
  {
   "cell_type": "code",
   "execution_count": 10,
   "metadata": {},
   "outputs": [],
   "source": [
    "# Packing de Imagen mostrada\n",
    "ImageLabel_4.pack(expand=True)"
   ]
  },
  {
   "cell_type": "code",
   "execution_count": 11,
   "metadata": {},
   "outputs": [],
   "source": [
    "# Funcion del Botón \"Lanzar\"\n",
    "def lanzarDado_4():\n",
    "    caraDado4 = ImageTk.PhotoImage(Image.open(random.choice(caras_4)))\n",
    "    # update image\n",
    "    ImageLabel_4.configure(image=caraDado4)\n",
    "    # keep a reference\n",
    "    ImageLabel_4.image = caraDado4"
   ]
  },
  {
   "cell_type": "code",
   "execution_count": 12,
   "metadata": {},
   "outputs": [],
   "source": [
    "# BOTÓN DE 'LANZAR EL DADO'\n",
    "button_4 = tkinter.Button(frame1, text='Lanzar el dado', command=lanzarDado_4)"
   ]
  },
  {
   "cell_type": "code",
   "execution_count": 13,
   "metadata": {},
   "outputs": [],
   "source": [
    "# Packing de Boton\n",
    "button_4.pack( expand=True)"
   ]
  },
  {
   "cell_type": "markdown",
   "metadata": {},
   "source": [
    "### D6 Dice"
   ]
  },
  {
   "cell_type": "code",
   "execution_count": 14,
   "metadata": {},
   "outputs": [],
   "source": [
    "# adding label with different font and formatting\n",
    "HeadingLabel = tkinter.Label(frame2, text=\"D6 Dice\",\n",
    "   font = \"Helvetica 16 bold\")\n",
    "HeadingLabel.pack()"
   ]
  },
  {
   "cell_type": "code",
   "execution_count": 15,
   "metadata": {},
   "outputs": [],
   "source": [
    "caras_6 = ['images/dado_6/cara1.png', 'images/dado_6/cara2.png', 'images/dado_6/cara3.png', 'images/dado_6/cara4.png',\n",
    "           'images/dado_6/cara5.png', 'images/dado_6/cara6.png']"
   ]
  },
  {
   "cell_type": "code",
   "execution_count": 16,
   "metadata": {},
   "outputs": [],
   "source": [
    "# Generacion de Imagen (1-6)\n",
    "caraDado6 = ImageTk.PhotoImage(Image.open(random.choice(caras_6)))"
   ]
  },
  {
   "cell_type": "code",
   "execution_count": 17,
   "metadata": {},
   "outputs": [],
   "source": [
    "# Etiquetado de cada imagen segun numero\n",
    "ImageLabel_6 = tkinter.Label(frame2, image=caraDado6)\n",
    "ImageLabel_6.image = caraDado6"
   ]
  },
  {
   "cell_type": "code",
   "execution_count": 18,
   "metadata": {},
   "outputs": [],
   "source": [
    "# Packing de Imagen mostrada\n",
    "ImageLabel_6.pack(expand=True)"
   ]
  },
  {
   "cell_type": "code",
   "execution_count": 19,
   "metadata": {},
   "outputs": [],
   "source": [
    "# Funcion del Botón \"Lanzar\"\n",
    "def lanzarDado_6():\n",
    "    caraDado6 = ImageTk.PhotoImage(Image.open(random.choice(caras_6)))\n",
    "    # update image\n",
    "    ImageLabel_6.configure(image=caraDado6)\n",
    "    # keep a reference\n",
    "    ImageLabel_6.image = caraDado6"
   ]
  },
  {
   "cell_type": "code",
   "execution_count": 20,
   "metadata": {},
   "outputs": [],
   "source": [
    "# BOTÓN DE 'LANZAR EL DADO'\n",
    "button_6 = tkinter.Button(frame2, text='Lanzar el dado', command=lanzarDado_6)"
   ]
  },
  {
   "cell_type": "code",
   "execution_count": 21,
   "metadata": {},
   "outputs": [],
   "source": [
    "# Packing de Boton\n",
    "button_6.pack( expand=True)"
   ]
  },
  {
   "cell_type": "markdown",
   "metadata": {},
   "source": [
    "### D8 Dice"
   ]
  },
  {
   "cell_type": "code",
   "execution_count": 22,
   "metadata": {},
   "outputs": [],
   "source": [
    "# adding label with different font and formatting\n",
    "HeadingLabel = tkinter.Label(frame3, text=\"D8 Dice\",\n",
    "   font = \"Helvetica 16 bold\")\n",
    "HeadingLabel.pack()"
   ]
  },
  {
   "cell_type": "code",
   "execution_count": 23,
   "metadata": {},
   "outputs": [],
   "source": [
    "caras_8 = ['images/dado_8/cara1.png', 'images/dado_8/cara2.png', 'images/dado_8/cara3.png', 'images/dado_8/cara4.png',\n",
    "           'images/dado_8/cara5.png', 'images/dado_8/cara6.png', 'images/dado_8/cara7.png', 'images/dado_8/cara8.png']"
   ]
  },
  {
   "cell_type": "code",
   "execution_count": 24,
   "metadata": {},
   "outputs": [],
   "source": [
    "# Generacion de Imagen (1-8)\n",
    "caraDado8 = ImageTk.PhotoImage(Image.open(random.choice(caras_8)))"
   ]
  },
  {
   "cell_type": "code",
   "execution_count": 25,
   "metadata": {},
   "outputs": [],
   "source": [
    "# Etiquetado de cada imagen segun numero\n",
    "ImageLabel_8 = tkinter.Label(frame3, image=caraDado8)\n",
    "ImageLabel_8.image = caraDado8"
   ]
  },
  {
   "cell_type": "code",
   "execution_count": 26,
   "metadata": {},
   "outputs": [],
   "source": [
    "# Packing de Imagen mostrada\n",
    "ImageLabel_8.pack(expand=True)"
   ]
  },
  {
   "cell_type": "code",
   "execution_count": 27,
   "metadata": {},
   "outputs": [],
   "source": [
    "# Funcion del Botón \"Lanzar\"\n",
    "def lanzarDado_8():\n",
    "    caraDado8 = ImageTk.PhotoImage(Image.open(random.choice(caras_8)))\n",
    "    # update image\n",
    "    ImageLabel_8.configure(image=caraDado8)\n",
    "    # keep a reference\n",
    "    ImageLabel_8.image = caraDado8"
   ]
  },
  {
   "cell_type": "code",
   "execution_count": 28,
   "metadata": {},
   "outputs": [],
   "source": [
    "# BOTÓN DE 'LANZAR EL DADO'\n",
    "button_8 = tkinter.Button(frame3, text='Lanzar el dado', command=lanzarDado_8)"
   ]
  },
  {
   "cell_type": "code",
   "execution_count": 29,
   "metadata": {},
   "outputs": [],
   "source": [
    "# Packing de Boton\n",
    "button_8.pack( expand=True)"
   ]
  },
  {
   "cell_type": "markdown",
   "metadata": {},
   "source": [
    "### D10 Dice"
   ]
  },
  {
   "cell_type": "code",
   "execution_count": 30,
   "metadata": {},
   "outputs": [],
   "source": [
    "# adding label with different font and formatting\n",
    "HeadingLabel = tkinter.Label(frame4, text=\"D10 Dice\",\n",
    "   font = \"Helvetica 16 bold\")\n",
    "HeadingLabel.pack()"
   ]
  },
  {
   "cell_type": "code",
   "execution_count": 31,
   "metadata": {},
   "outputs": [],
   "source": [
    "caras_10 = ['images/dado_10/cara1.png', 'images/dado_10/cara2.png', 'images/dado_10/cara3.png', 'images/dado_10/cara4.png',\n",
    "            'images/dado_10/cara5.png', 'images/dado_10/cara6.png', 'images/dado_10/cara7.png', 'images/dado_10/cara8.png',\n",
    "            'images/dado_10/cara9.png', 'images/dado_10/cara10.png']"
   ]
  },
  {
   "cell_type": "code",
   "execution_count": 32,
   "metadata": {},
   "outputs": [],
   "source": [
    "# Generacion de Imagen (1-10)\n",
    "caraDado10 = ImageTk.PhotoImage(Image.open(random.choice(caras_10)))"
   ]
  },
  {
   "cell_type": "code",
   "execution_count": 33,
   "metadata": {},
   "outputs": [],
   "source": [
    "# Etiquetado de cada imagen segun numero\n",
    "ImageLabel_10 = tkinter.Label(frame4, image=caraDado10)\n",
    "ImageLabel_10.image = caraDado10"
   ]
  },
  {
   "cell_type": "code",
   "execution_count": 34,
   "metadata": {},
   "outputs": [],
   "source": [
    "# Packing de Imagen mostrada\n",
    "ImageLabel_10.pack(expand=True)"
   ]
  },
  {
   "cell_type": "code",
   "execution_count": 35,
   "metadata": {},
   "outputs": [],
   "source": [
    "# Funcion del Botón \"Lanzar\"\n",
    "def lanzarDado_10():\n",
    "    caraDado10 = ImageTk.PhotoImage(Image.open(random.choice(caras_10)))\n",
    "    # update image\n",
    "    ImageLabel_10.configure(image=caraDado10)\n",
    "    # keep a reference\n",
    "    ImageLabel_10.image = caraDado10"
   ]
  },
  {
   "cell_type": "code",
   "execution_count": 36,
   "metadata": {},
   "outputs": [],
   "source": [
    "# BOTÓN DE 'LANZAR EL DADO'\n",
    "button_10 = tkinter.Button(frame4, text='Lanzar el dado', command=lanzarDado_10)"
   ]
  },
  {
   "cell_type": "code",
   "execution_count": 37,
   "metadata": {},
   "outputs": [],
   "source": [
    "# Packing de Boton\n",
    "button_10.pack( expand=True)"
   ]
  },
  {
   "cell_type": "markdown",
   "metadata": {},
   "source": [
    "### D-Percentage Dice"
   ]
  },
  {
   "cell_type": "code",
   "execution_count": 38,
   "metadata": {},
   "outputs": [],
   "source": [
    "# adding label with different font and formatting\n",
    "HeadingLabel = tkinter.Label(frame5, text=\"D-Percentage Dice\",\n",
    "   font = \"Helvetica 16 bold\")\n",
    "HeadingLabel.pack()"
   ]
  },
  {
   "cell_type": "code",
   "execution_count": 39,
   "metadata": {},
   "outputs": [],
   "source": [
    "caras_10p = ['images/dado_10p/cara1.png', 'images/dado_10p/cara2.png', 'images/dado_10p/cara3.png',\n",
    "             'images/dado_10p/cara4.png', 'images/dado_10p/cara5.png', 'images/dado_10p/cara6.png',\n",
    "             'images/dado_10p/cara7.png', 'images/dado_10p/cara8.png', 'images/dado_10p/cara9.png',\n",
    "             'images/dado_10p/cara10.png']"
   ]
  },
  {
   "cell_type": "code",
   "execution_count": 40,
   "metadata": {},
   "outputs": [],
   "source": [
    "# Generacion de Imagen (10-100)\n",
    "caraDado10p = ImageTk.PhotoImage(Image.open(random.choice(caras_10p)))"
   ]
  },
  {
   "cell_type": "code",
   "execution_count": 41,
   "metadata": {},
   "outputs": [],
   "source": [
    "# Etiquetado de cada imagen segun numero\n",
    "ImageLabel_10p = tkinter.Label(frame5, image=caraDado10p)\n",
    "ImageLabel_10p.image = caraDado10p"
   ]
  },
  {
   "cell_type": "code",
   "execution_count": 42,
   "metadata": {},
   "outputs": [],
   "source": [
    "# Packing de Imagen mostrada\n",
    "ImageLabel_10p.pack(expand=True)"
   ]
  },
  {
   "cell_type": "code",
   "execution_count": 43,
   "metadata": {},
   "outputs": [],
   "source": [
    "# Funcion del Botón \"Lanzar\"\n",
    "def lanzarDado_10p():\n",
    "    caraDado10p = ImageTk.PhotoImage(Image.open(random.choice(caras_10p)))\n",
    "    # update image\n",
    "    ImageLabel_10p.configure(image=caraDado10p)\n",
    "    # keep a reference\n",
    "    ImageLabel_10p.image = caraDado10p"
   ]
  },
  {
   "cell_type": "code",
   "execution_count": 44,
   "metadata": {},
   "outputs": [],
   "source": [
    "# BOTÓN DE 'LANZAR EL DADO'\n",
    "button_10p = tkinter.Button(frame5, text='Lanzar el dado', command=lanzarDado_10p)"
   ]
  },
  {
   "cell_type": "code",
   "execution_count": 45,
   "metadata": {},
   "outputs": [],
   "source": [
    "# Packing de Boton\n",
    "button_10p.pack( expand=True)"
   ]
  },
  {
   "cell_type": "markdown",
   "metadata": {},
   "source": [
    "### D12 Dice"
   ]
  },
  {
   "cell_type": "code",
   "execution_count": 46,
   "metadata": {},
   "outputs": [],
   "source": [
    "# adding label with different font and formatting\n",
    "HeadingLabel = tkinter.Label(frame6, text=\"D12 Dice\",\n",
    "   font = \"Helvetica 16 bold\")\n",
    "HeadingLabel.pack()"
   ]
  },
  {
   "cell_type": "code",
   "execution_count": 47,
   "metadata": {},
   "outputs": [],
   "source": [
    "caras_12 = ['images/dado_12/cara1.png', 'images/dado_12/cara2.png', 'images/dado_12/cara3.png', 'images/dado_12/cara4.png',\n",
    "            'images/dado_12/cara5.png', 'images/dado_12/cara6.png', 'images/dado_12/cara7.png', 'images/dado_12/cara8.png',\n",
    "            'images/dado_12/cara9.png', 'images/dado_12/cara10.png', 'images/dado_12/cara11.png', 'images/dado_12/cara12.png']"
   ]
  },
  {
   "cell_type": "code",
   "execution_count": 48,
   "metadata": {},
   "outputs": [],
   "source": [
    "# Generacion de Imagen (1-12)\n",
    "caraDado12 = ImageTk.PhotoImage(Image.open(random.choice(caras_12)))"
   ]
  },
  {
   "cell_type": "code",
   "execution_count": 49,
   "metadata": {},
   "outputs": [],
   "source": [
    "# Etiquetado de cada imagen segun numero\n",
    "ImageLabel_12 = tkinter.Label(frame6, image=caraDado12)\n",
    "ImageLabel_12.image = caraDado12"
   ]
  },
  {
   "cell_type": "code",
   "execution_count": 50,
   "metadata": {},
   "outputs": [],
   "source": [
    "# Packing de Imagen mostrada\n",
    "ImageLabel_12.pack(expand=True)"
   ]
  },
  {
   "cell_type": "code",
   "execution_count": 51,
   "metadata": {},
   "outputs": [],
   "source": [
    "# Funcion del Botón \"Lanzar\"\n",
    "def lanzarDado_12():\n",
    "    caraDado12 = ImageTk.PhotoImage(Image.open(random.choice(caras_12)))\n",
    "    # update image\n",
    "    ImageLabel_12.configure(image=caraDado12)\n",
    "    # keep a reference\n",
    "    ImageLabel_12.image = caraDado12"
   ]
  },
  {
   "cell_type": "code",
   "execution_count": 52,
   "metadata": {},
   "outputs": [],
   "source": [
    "# BOTÓN DE 'LANZAR EL DADO'\n",
    "button_12 = tkinter.Button(frame6, text='Lanzar el dado', command=lanzarDado_12)"
   ]
  },
  {
   "cell_type": "code",
   "execution_count": 53,
   "metadata": {},
   "outputs": [],
   "source": [
    "# Packing de Boton\n",
    "button_12.pack( expand=True)"
   ]
  },
  {
   "cell_type": "markdown",
   "metadata": {},
   "source": [
    "### D20 Dice"
   ]
  },
  {
   "cell_type": "code",
   "execution_count": 54,
   "metadata": {},
   "outputs": [],
   "source": [
    "# Adding label into the frame\n",
    "BlankLine = tkinter.Label(frame7, text=\"\")\n",
    "BlankLine.pack()"
   ]
  },
  {
   "cell_type": "code",
   "execution_count": 55,
   "metadata": {},
   "outputs": [],
   "source": [
    "# adding label with different font and formatting\n",
    "HeadingLabel = tkinter.Label(frame7, text=\"D20 Dice\",\n",
    "   font = \"Helvetica 16 bold\")\n",
    "HeadingLabel.pack()"
   ]
  },
  {
   "cell_type": "code",
   "execution_count": 56,
   "metadata": {},
   "outputs": [],
   "source": [
    "# images\n",
    "caras_20 = ['images/dado_20/cara1.png', 'images/dado_20/cara2.png', 'images/dado_20/cara3.png', 'images/dado_20/cara4.png',\n",
    "         'images/dado_20/cara5.png', 'images/dado_20/cara6.png', 'images/dado_20/cara7.png', 'images/dado_20/cara8.png',\n",
    "         'images/dado_20/cara9.png', 'images/dado_20/cara10.png', 'images/dado_20/cara11.png', 'images/dado_20/cara12.png',\n",
    "         'images/dado_20/cara13.png', 'images/dado_20/cara14.png', 'images/dado_20/cara15.png', 'images/dado_20/cara16.png',\n",
    "         'images/dado_20/cara17.png', 'images/dado_20/cara18.png', 'images/dado_20/cara19.png', 'images/dado_20/cara20.png']"
   ]
  },
  {
   "cell_type": "code",
   "execution_count": 57,
   "metadata": {
    "scrolled": true
   },
   "outputs": [],
   "source": [
    "# Generacion de Imagen (1-20)\n",
    "caraDado20 = ImageTk.PhotoImage(Image.open(random.choice(caras_20)))"
   ]
  },
  {
   "cell_type": "code",
   "execution_count": 58,
   "metadata": {},
   "outputs": [],
   "source": [
    "# Etiquetado de cada imagen segun numero\n",
    "ImageLabel_20 = tkinter.Label(frame7, image=caraDado20)\n",
    "ImageLabel_20.image = caraDado20"
   ]
  },
  {
   "cell_type": "code",
   "execution_count": 59,
   "metadata": {},
   "outputs": [],
   "source": [
    "# Packing de Imagen mostrada\n",
    "ImageLabel_20.pack(expand=True)"
   ]
  },
  {
   "cell_type": "code",
   "execution_count": 60,
   "metadata": {},
   "outputs": [],
   "source": [
    "# Funcion del Botón \"Lanzar\"\n",
    "def lanzarDado_20():\n",
    "    caraDado20 = ImageTk.PhotoImage(Image.open(random.choice(caras_20)))\n",
    "    # update image\n",
    "    ImageLabel_20.configure(image=caraDado20)\n",
    "    # keep a reference\n",
    "    ImageLabel_20.image = caraDado20"
   ]
  },
  {
   "cell_type": "code",
   "execution_count": 61,
   "metadata": {},
   "outputs": [],
   "source": [
    "# BOTÓN DE 'LANZAR EL DADO'\n",
    "button_20 = tkinter.Button(frame7, text='Lanzar el dado', command=lanzarDado_20)"
   ]
  },
  {
   "cell_type": "code",
   "execution_count": 62,
   "metadata": {},
   "outputs": [],
   "source": [
    "# Packing de Boton\n",
    "button_20.pack( expand=True)"
   ]
  },
  {
   "cell_type": "markdown",
   "metadata": {},
   "source": [
    "Loop para mantener abierta la ventana"
   ]
  },
  {
   "cell_type": "code",
   "execution_count": null,
   "metadata": {},
   "outputs": [],
   "source": [
    "root.mainloop()"
   ]
  }
 ],
 "metadata": {
  "kernelspec": {
   "display_name": "Python 3",
   "language": "python",
   "name": "python3"
  },
  "language_info": {
   "codemirror_mode": {
    "name": "ipython",
    "version": 3
   },
   "file_extension": ".py",
   "mimetype": "text/x-python",
   "name": "python",
   "nbconvert_exporter": "python",
   "pygments_lexer": "ipython3",
   "version": "3.8.3"
  },
  "toc": {
   "base_numbering": 1,
   "nav_menu": {},
   "number_sections": true,
   "sideBar": true,
   "skip_h1_title": false,
   "title_cell": "Table of Contents",
   "title_sidebar": "Contents",
   "toc_cell": false,
   "toc_position": {},
   "toc_section_display": true,
   "toc_window_display": false
  }
 },
 "nbformat": 4,
 "nbformat_minor": 4
}
